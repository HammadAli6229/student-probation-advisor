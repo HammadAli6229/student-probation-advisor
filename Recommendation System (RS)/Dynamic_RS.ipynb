{
  "cells": [
    {
      "cell_type": "code",
      "execution_count": 32,
      "metadata": {
        "id": "bLHKMw3MYhcN"
      },
      "outputs": [],
      "source": [
        "# Import Required Libraries\n",
        "import pandas as pd\n",
        "import numpy as np\n",
        "import joblib\n",
        "import json\n",
        "import sklearn  # To check scikit-learn version compatibility"
      ]
    },
    {
      "cell_type": "code",
      "execution_count": 33,
      "metadata": {
        "id": "Sl_G6-FtYlAZ"
      },
      "outputs": [],
      "source": [
        "# Function to Load Dataset\n",
        "def load_dataset(file_path):\n",
        "    try:\n",
        "        data = pd.read_csv(file_path)\n",
        "        print(\"Dataset loaded successfully!\\n\")\n",
        "        return data\n",
        "    except FileNotFoundError:\n",
        "        print(\"Error: File not found. Please check the file path.\")\n",
        "        return None\n",
        "    except Exception as e:\n",
        "        print(f\"Error loading dataset: {e}\")\n",
        "        return None"
      ]
    },
    {
      "cell_type": "code",
      "execution_count": 34,
      "metadata": {
        "id": "nQ9Wgrx-Ypt1"
      },
      "outputs": [],
      "source": [
        "# Function to Get Student Data\n",
        "def get_student_data(registration_number, data):\n",
        "    student = data[data[\"Reg. No.\"].astype(str).str.strip() == registration_number.strip()]\n",
        "    if student.empty:\n",
        "        print(f\"Error: Student with Registration Number '{registration_number}' not found.\\n\")\n",
        "        return None\n",
        "    return student.iloc[0]  # Extract first matching row as a Series"
      ]
    },
    {
      "cell_type": "code",
      "execution_count": 35,
      "metadata": {
        "id": "cQCI-KZFYt-3"
      },
      "outputs": [],
      "source": [
        "# Function to Load Model, Scaler, and Metadata\n",
        "def load_model_and_metadata(model_path, scaler_path, metadata_path):\n",
        "    try:\n",
        "        # Load Metadata\n",
        "        with open(metadata_path, \"r\") as f:\n",
        "            metadata = json.load(f)\n",
        "\n",
        "        # Check scikit-learn version compatibility\n",
        "        current_version = sklearn.__version__\n",
        "        saved_version = metadata.get(\"scikit-learn_version\", \"Unknown\")\n",
        "\n",
        "        if current_version != saved_version:\n",
        "            print(f\"Warning: scikit-learn version mismatch! (Saved: {saved_version}, Current: {current_version})\")\n",
        "            print(\"This may cause unexpected behavior.\\n\")\n",
        "\n",
        "        # Load Model and Scaler\n",
        "        model = joblib.load(model_path)\n",
        "        scaler = joblib.load(scaler_path)\n",
        "        return model, scaler, metadata\n",
        "    except FileNotFoundError:\n",
        "        print(\"Error: Model, scaler, or metadata file not found.\")\n",
        "        return None, None, None\n",
        "    except Exception as e:\n",
        "        print(f\"Error loading model or metadata: {e}\")\n",
        "        return None, None, None"
      ]
    },
    {
      "cell_type": "code",
      "execution_count": 36,
      "metadata": {
        "id": "83wnGMlCY2SS"
      },
      "outputs": [],
      "source": [
        "# Function to Predict Probation Probability\n",
        "def predict_probation(student_row, model, scaler, metadata):\n",
        "    try:\n",
        "        # Prepare Input Features using the feature indices stored in metadata\n",
        "        feature_indices = metadata[\"feature_indices\"]  # Feature indices\n",
        "        input_features = np.array([[student_row.iloc[index] for index in feature_indices]])\n",
        "\n",
        "        # Scale Features\n",
        "        input_features_scaled = scaler.transform(input_features)\n",
        "        probation_percentage = model.predict(input_features_scaled)[0]\n",
        "        return round(probation_percentage, 2)\n",
        "    except Exception as e:\n",
        "        print(f\"Error during prediction: {e}\")\n",
        "        return None"
      ]
    },
    {
      "cell_type": "code",
      "execution_count": 37,
      "metadata": {
        "id": "Y2nZM9Y9Y98o"
      },
      "outputs": [],
      "source": [
        "# Function to Display Student Report\n",
        "def display_student_report(student_row, probation_percentage):\n",
        "    print(\"\\n--- Student Report ---\\n\")\n",
        "    print(f\"Student Name: {student_row['Student Name']}\")\n",
        "    print(f\"Registration Number: {student_row['Reg. No.']}\")\n",
        "    print(f\"Probation Status: {student_row['Current Probation Status (0-2)']}\")\n",
        "    print(f\"CGPA: {student_row['Current CGPA (4.00)']}\\n\")\n",
        "\n",
        "    # Display Midterm Performance\n",
        "    print(\"Performance Till Midterm Exams:\\n\")\n",
        "    print(f\"{'S.#':<5} {'Course Name':<60} {'Marks - 45':<15} {'Pass / Fail':<10}\")\n",
        "\n",
        "    # Filter Course Columns\n",
        "    excluded_columns = [\"Previous Semester GPA (4.00)\", \"Current CGPA (4.00)\", \"Current Probation Status (0-2)\", \"Probation Chance (Out of 100%)\",\n",
        "                        \"Contacts\", \"< >\", \"< >.1\", \"< >.2\"]\n",
        "    course_columns = [col for col in student_row.index if col not in excluded_columns and col not in ['Student Name', 'Reg. No.']]\n",
        "\n",
        "    # Display Results\n",
        "    for i, course in enumerate(course_columns, start=1):\n",
        "        marks = student_row[course]\n",
        "        status = \"Pass\" if marks >= 24 else \"Fail\"\n",
        "        print(f\"{i:<5} {course:<60} {marks:<15} {status:<10}\")\n",
        "\n",
        "    # Recommendation\n",
        "    print(\"\\nRecommendation:\")\n",
        "    if probation_percentage >= 50:\n",
        "        print(f\"Your chance of probation is {probation_percentage}%. Consider withdrawing subjects with low marks and focusing on prerequisites.\")\n",
        "    elif probation_percentage >= 30:\n",
        "        print(f\"Your chance of probation is {probation_percentage}%. Work harder for final exams and focus on weak subjects.\")\n",
        "    else:\n",
        "        print(f\"Your chance of probation is {probation_percentage}%. Keep up the good work and maintain your performance.\\n\")"
      ]
    },
    {
      "cell_type": "code",
      "execution_count": 40,
      "metadata": {
        "id": "wNOn0d_LZFdo"
      },
      "outputs": [],
      "source": [
        "# Main Execution Function\n",
        "def main():\n",
        "    # File Paths\n",
        "    dataset_path = \"test-dataset.csv\"  # Update with your file path\n",
        "    model_path = \"probation_rf_model.pkl\"  # Update with Random Forest model path\n",
        "    scaler_path = \"scaler.pkl\"  # Update with scaler path\n",
        "    metadata_path = \"metadata.json\"  # Metadata file\n",
        "\n",
        "    # Load Dataset\n",
        "    data = load_dataset(dataset_path)\n",
        "    if data is None:\n",
        "        return\n",
        "\n",
        "    # Load Model, Scaler, and Metadata\n",
        "    model, scaler, metadata = load_model_and_metadata(model_path, scaler_path, metadata_path)\n",
        "    if model is None or scaler is None or metadata is None:\n",
        "        return\n",
        "\n",
        "    # Input Registration Number\n",
        "    registration_number = input(\"Enter Student Registration Number: \").strip()\n",
        "    student_row = get_student_data(registration_number, data)\n",
        "    if student_row is None:\n",
        "        return\n",
        "\n",
        "    # Predict Probation Probability\n",
        "    probation_percentage = predict_probation(student_row, model, scaler, metadata)\n",
        "    if probation_percentage is None:\n",
        "        return\n",
        "\n",
        "    # Display Report\n",
        "    display_student_report(student_row, probation_percentage)"
      ]
    },
    {
      "cell_type": "code",
      "execution_count": 41,
      "metadata": {
        "colab": {
          "base_uri": "https://localhost:8080/"
        },
        "id": "q5b_4duKZPn8",
        "outputId": "fc66416b-6616-4a62-b4dd-d322506e076e"
      },
      "outputs": [
        {
          "name": "stdout",
          "output_type": "stream",
          "text": [
            "Dataset loaded successfully!\n",
            "\n",
            "Enter Student Registration Number: 21108106\n",
            "\n",
            "--- Student Report ---\n",
            "\n",
            "Student Name: Maryam\n",
            "Registration Number: 21108106\n",
            "Probation Status: 0\n",
            "CGPA: 2.94\n",
            "\n",
            "Performance Till Midterm Exams:\n",
            "\n",
            "S.#   Course Name                                                  Marks - 45      Pass / Fail\n",
            "1     Mathematics                                                  28              Pass      \n",
            "2     Quantum Physics                                              32              Pass      \n",
            "3     Biological Theory                                            35              Pass      \n",
            "4     Assembly Language                                            32              Pass      \n",
            "5     General Knowledge                                            31              Pass      \n",
            "6     Meta Psychology                                              32              Pass      \n",
            "7     Neural Networks                                              33              Pass      \n",
            "8     Islamic Studies                                              31              Pass      \n",
            "\n",
            "Recommendation:\n",
            "Your chance of probation is 11.01%. Keep up the good work and maintain your performance.\n",
            "\n"
          ]
        },
        {
          "name": "stderr",
          "output_type": "stream",
          "text": [
            "/usr/local/lib/python3.11/dist-packages/sklearn/utils/validation.py:2739: UserWarning: X does not have valid feature names, but StandardScaler was fitted with feature names\n",
            "  warnings.warn(\n"
          ]
        }
      ],
      "source": [
        "# Run the Program\n",
        "if __name__ == \"__main__\":\n",
        "    main()"
      ]
    }
  ],
  "metadata": {
    "accelerator": "GPU",
    "colab": {
      "gpuType": "T4",
      "provenance": []
    },
    "kernelspec": {
      "display_name": "Python 3",
      "name": "python3"
    },
    "language_info": {
      "name": "python"
    }
  },
  "nbformat": 4,
  "nbformat_minor": 0
}
